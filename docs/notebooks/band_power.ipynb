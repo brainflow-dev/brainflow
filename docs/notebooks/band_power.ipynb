{
 "cells": [
  {
   "cell_type": "markdown",
   "metadata": {},
   "source": [
    "# BrainFlow Band Power Notebook"
   ]
  },
  {
   "cell_type": "code",
   "execution_count": null,
   "metadata": {},
   "outputs": [],
   "source": [
    "import argparse\n",
    "import time\n",
    "import brainflow\n",
    "import numpy as np\n",
    "\n",
    "import pandas as pd\n",
    "import matplotlib\n",
    "import matplotlib.pyplot as plt\n",
    "\n",
    "from brainflow.board_shim import BoardShim, BrainFlowInputParams, LogLevels, BoardIds\n",
    "from brainflow.data_filter import DataFilter, FilterTypes, AggOperations, WindowOperations, DetrendOperations"
   ]
  },
  {
   "cell_type": "code",
   "execution_count": null,
   "metadata": {},
   "outputs": [],
   "source": [
    "# use synthetic board for demo\n",
    "params = BrainFlowInputParams()\n",
    "board_id = BoardIds.SYNTHETIC_BOARD.value\n",
    "sampling_rate = BoardShim.get_sampling_rate(board_id)\n",
    "nfft = DataFilter.get_nearest_power_of_two(sampling_rate)\n",
    "board = BoardShim(board_id, params)\n",
    "board.prepare_session()\n",
    "board.start_stream()\n",
    "time.sleep(10)\n",
    "data = board.get_board_data()\n",
    "board.stop_stream()\n",
    "board.release_session()\n",
    "eeg_channels = BoardShim.get_eeg_channels(board_id)\n",
    "# use first eeg channel for demo\n",
    "# second channel of synthetic board is a sine wave at 10 Hz, should see big 'alpha'\n",
    "eeg_channel = eeg_channels[1]"
   ]
  },
  {
   "cell_type": "code",
   "execution_count": null,
   "metadata": {},
   "outputs": [],
   "source": [
    "# optional: detrend\n",
    "DataFilter.detrend(data[eeg_channel], DetrendOperations.LINEAR.value)"
   ]
  },
  {
   "cell_type": "code",
   "execution_count": null,
   "metadata": {},
   "outputs": [],
   "source": [
    "psd = DataFilter.get_psd_welch(data[eeg_channel], nfft, nfft // 2, sampling_rate, WindowOperations.HANNING.value)\n",
    "plt.plot(psd[1][:60], psd[0][:60])\n",
    "plt.show()"
   ]
  },
  {
   "cell_type": "code",
   "execution_count": null,
   "metadata": {},
   "outputs": [],
   "source": [
    "# calc band power\n",
    "alpha = DataFilter.get_band_power(psd, 7.0, 13.0)\n",
    "beta = DataFilter.get_band_power(psd, 14.0, 30.0)\n",
    "print(\"Alpha/Beta Ratio is: %f\" % (alpha / beta))"
   ]
  }
 ],
 "metadata": {
  "kernelspec": {
   "display_name": "Python 3 (ipykernel)",
   "language": "python",
   "name": "python3"
  },
  "language_info": {
   "codemirror_mode": {
    "name": "ipython",
    "version": 3
   },
   "file_extension": ".py",
   "mimetype": "text/x-python",
   "name": "python",
   "nbconvert_exporter": "python",
   "pygments_lexer": "ipython3",
   "version": "3.9.6"
  }
 },
 "nbformat": 4,
 "nbformat_minor": 2
}
