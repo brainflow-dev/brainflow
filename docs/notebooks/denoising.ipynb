{
 "cells": [
  {
   "cell_type": "markdown",
   "metadata": {},
   "source": [
    "# Denoising Notebook"
   ]
  },
  {
   "cell_type": "code",
   "execution_count": null,
   "metadata": {},
   "outputs": [],
   "source": [
    "import argparse\n",
    "import time\n",
    "import brainflow\n",
    "import numpy as np\n",
    "\n",
    "import pandas as pd\n",
    "import matplotlib\n",
    "import matplotlib.pyplot as plt\n",
    "\n",
    "from brainflow.board_shim import BoardShim, BrainFlowInputParams, LogLevels, BoardIds\n",
    "from brainflow.data_filter import DataFilter, AggOperations, WaveletTypes, NoiseEstimationLevelTypes, WaveletExtensionTypes, ThresholdTypes, WaveletDenoisingTypes"
   ]
  },
  {
   "cell_type": "code",
   "execution_count": null,
   "metadata": {},
   "outputs": [],
   "source": [
    "# use synthetic board for demo\n",
    "params = BrainFlowInputParams()\n",
    "board_id = BoardIds.SYNTHETIC_BOARD.value\n",
    "board = BoardShim(board_id, params)\n",
    "board.prepare_session()\n",
    "board.start_stream()\n",
    "time.sleep(10)\n",
    "data = board.get_current_board_data(500)\n",
    "board.stop_stream()\n",
    "board.release_session()"
   ]
  },
  {
   "cell_type": "code",
   "execution_count": null,
   "metadata": {},
   "outputs": [],
   "source": [
    "# plot original data\n",
    "eeg_channels = BoardShim.get_eeg_channels(board_id)\n",
    "df = pd.DataFrame(np.transpose(data))\n",
    "df[eeg_channels].plot(subplots=True)\n",
    "plt.show()"
   ]
  },
  {
   "cell_type": "code",
   "execution_count": null,
   "metadata": {},
   "outputs": [],
   "source": [
    "# demo for denoising, apply different methods to different channels for demo\n",
    "for count, channel in enumerate(eeg_channels):\n",
    "    # first of all you can try simple moving median or moving average with different window size\n",
    "    if count == 0:\n",
    "        DataFilter.perform_rolling_filter(data[channel], 3, AggOperations.MEAN.value)\n",
    "    elif count == 1:\n",
    "        DataFilter.perform_rolling_filter(data[channel], 3, AggOperations.MEDIAN.value)\n",
    "    # if methods above dont work for your signal you can try wavelet based denoising\n",
    "    # feel free to try different parameters\n",
    "    else:\n",
    "        DataFilter.perform_wavelet_denoising(data[channel], WaveletTypes.BIOR3_9, 3, WaveletDenoisingTypes.SURESHRINK, ThresholdTypes.HARD,\n",
    "                                                 WaveletExtensionTypes.SYMMETRIC, NoiseEstimationLevelTypes.FIRST_LEVEL)"
   ]
  },
  {
   "cell_type": "code",
   "execution_count": null,
   "metadata": {},
   "outputs": [],
   "source": [
    "# plot denoised data\n",
    "df = pd.DataFrame(np.transpose(data))\n",
    "df[eeg_channels].plot(subplots=True)\n",
    "plt.show()"
   ]
  }
 ],
 "metadata": {
  "kernelspec": {
   "display_name": "Python 3 (ipykernel)",
   "language": "python",
   "name": "python3"
  },
  "language_info": {
   "codemirror_mode": {
    "name": "ipython",
    "version": 3
   },
   "file_extension": ".py",
   "mimetype": "text/x-python",
   "name": "python",
   "nbconvert_exporter": "python",
   "pygments_lexer": "ipython3",
   "version": "3.9.6"
  }
 },
 "nbformat": 4,
 "nbformat_minor": 2
}
